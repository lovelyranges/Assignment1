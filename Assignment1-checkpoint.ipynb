{
 "cells": [
  {
   "cell_type": "markdown",
   "metadata": {},
   "source": [
    "# Assignment 1"
   ]
  },
  {
   "cell_type": "markdown",
   "metadata": {},
   "source": [
    "Reference of Source: (Format Later)\n",
    "\n",
    "https://acsjournals-onlinelibrary-wiley-com.proxy.lib.sfu.ca/doi/pdfdirect/10.1002/cncr.33219\n",
    "\n",
    "“This is some mess right here”: Exploring interactions between Black sexual minority women and health care providers for breast cancer screening and care"
   ]
  },
  {
   "cell_type": "code",
   "execution_count": 1,
   "metadata": {},
   "outputs": [
    {
     "data": {
      "text/plain": [
       "9424"
      ]
     },
     "execution_count": 1,
     "metadata": {},
     "output_type": "execute_result"
    }
   ],
   "source": [
    "#1. The length\n",
    "\n",
    "#import both nltk and regex\n",
    "import nltk, re\n",
    "\n",
    "from nltk import FreqDist\n",
    "\n",
    "from nltk.corpus import PlaintextCorpusReader\n",
    "\n",
    "corpusPath = \"./\"\n",
    "corpusText = PlaintextCorpusReader(corpusPath, '.*\\.txt')\n",
    "cancerJournal = nltk.Text(corpusText.words('breastcancerscreening.txt'))\n",
    "\n",
    "def length(text):\n",
    "    return len(text)\n",
    "\n",
    "length(cancerJournal)"
   ]
  },
  {
   "cell_type": "code",
   "execution_count": 2,
   "metadata": {},
   "outputs": [
    {
     "data": {
      "text/plain": [
       "0.19874787775891342"
      ]
     },
     "execution_count": 2,
     "metadata": {},
     "output_type": "execute_result"
    }
   ],
   "source": [
    "#2. The lexical diversity\n",
    "\n",
    "def lexical_diversity(text):\n",
    "    #divide types over tokens\n",
    "    return len(set(text)) / len(text)\n",
    "\n",
    "lexical_diversity(cancerJournal)"
   ]
  },
  {
   "cell_type": "code",
   "execution_count": 3,
   "metadata": {},
   "outputs": [
    {
     "data": {
      "text/plain": [
       "['The small numbers of racial/ethnic minority participants in prior studies limit the ability to assess whether\\nbarriers to screening and follow-up for sexual minorities apply across racial groups.4\\nBlack women are diagnosed at later stages of breast cancer than White women because of lower frequency of mammograms, longer time between mammograms, and lack of timely follow-up after abnormal mammograms,12-15 even\\namong the insured.16 The persistent racial disparity in follow-up after abnormal mammograms has contributed to disparities in breast cancer mortality between Black and White women.17,18 Previous studies suggest that Black women\\nhave 1.39-fold odds of a 2-month delay in breast cancer diagnosis after an abnormal mammogram and up to a 2.24-fold\\ndelay in diagnosis and treatment combined.13 Delays in diagnosis result in an increased risk of an advanced stage of\\nbreast cancer.14 In addition to race, barriers to timely follow-up after an abnormal mammogram include low income,\\nCorresponding Author: Naomi Greene, MPH, Department of Health, Behavior, and Society, Johns Hopkins Bloomberg School of Public Health, 624 N. Broadway,\\nBaltimore, MD 21205 (ngreene9@jhmi.edu).']"
      ]
     },
     "execution_count": 3,
     "metadata": {},
     "output_type": "execute_result"
    }
   ],
   "source": [
    "#3. The longest sentence (type the sentence and also give the number of words).\n",
    "#Hint: look at the Gutenberg part of Section 2.1 in NLTK\n",
    "\n",
    "#i'm not entirely sure why it won't work without the encoding, \n",
    "#but i think this would be important to make code more foolproof\n",
    "#in the future\n",
    "\n",
    "with open(\"breastcancerscreening.txt\", \"r\", encoding=\"utf8\") as f:\n",
    "    corpusText = f.read()\n",
    "    \n",
    "cancerJournalSentences = nltk.sent_tokenize(corpusText)\n",
    "cancerJournalWords = nltk.word_tokenize(corpusText)\n",
    "\n",
    "longestCancerJournalSentence = max(len(s) for s in cancerJournalSentences)\n",
    "[s for s in cancerJournalSentences if len(s) == longestCancerJournalSentence]\n",
    "\n",
    "#not entirely sure how to calculate the \"number of words in this sentence\"\n",
    "#also not sure if this is really returning the correct answer."
   ]
  },
  {
   "cell_type": "code",
   "execution_count": 4,
   "metadata": {},
   "outputs": [
    {
     "name": "stdout",
     "output_type": "stream",
     "text": [
      "breast cancer; health care; Black SMW; college graduate; care\n",
      "providers; cancer screening; Sexual Minority; Johns Hopkins; Cancer\n",
      "January; Minority Women; sexual minority; Original Article; Public\n",
      "Health; determination theory; Bloomberg School; Hopkins Bloomberg;\n",
      "Black women; Black Sexual; Naomi Greene; abnormal mammogram\n"
     ]
    }
   ],
   "source": [
    "#4. The top collocations.\n",
    "\n",
    "cancerJournal.collocations()"
   ]
  },
  {
   "cell_type": "code",
   "execution_count": 69,
   "metadata": {},
   "outputs": [
    {
     "data": {
      "text/plain": [
       "(['and', 'a', 'as', 'age', 'about', 'autonomy', 'an', 'all', 'are', 'among'],\n",
       " ['employed',\n",
       "  'et',\n",
       "  'even',\n",
       "  'experiences',\n",
       "  'environments',\n",
       "  'experience',\n",
       "  'expressed',\n",
       "  'ensure',\n",
       "  'education',\n",
       "  'especially'],\n",
       " ['i',\n",
       "  'in',\n",
       "  'it',\n",
       "  'is',\n",
       "  'interactions',\n",
       "  'interviews',\n",
       "  'identities',\n",
       "  'if',\n",
       "  'including',\n",
       "  'issues'],\n",
       " ['of',\n",
       "  'or',\n",
       "  'on',\n",
       "  'other',\n",
       "  'one',\n",
       "  'our',\n",
       "  'own',\n",
       "  'organization',\n",
       "  'only',\n",
       "  'original'],\n",
       " ['used',\n",
       "  'understand',\n",
       "  'university',\n",
       "  'using',\n",
       "  'us',\n",
       "  'use',\n",
       "  'understood',\n",
       "  'up',\n",
       "  'unique',\n",
       "  'unable'])"
      ]
     },
     "execution_count": 69,
     "metadata": {},
     "output_type": "execute_result"
    }
   ],
   "source": [
    "#5. The top ten words that start with each of the vowels (use FreqDist)\n",
    "\n",
    "cancerJournalWordsLower = []\n",
    "\n",
    "#make everything lowercased\n",
    "for word in cancerJournalWords:\n",
    "    cancerJournalWordsLower.append(word.lower())\n",
    "\n",
    "#collect frequency distribution of our cancer journal text\n",
    "fdist1 = FreqDist(cancerJournalWordsLower)\n",
    "\n",
    "#create multiple lists\n",
    "vowelA, vowelE, vowelI, vowelO, vowelU = [],[],[],[],[]\n",
    "#topTenWordsA = []\n",
    "\n",
    "for word in fdist1.most_common():\n",
    "    #use regex to find most common word starting with vowels\n",
    "    if re.match('^a', word[0]):\n",
    "        vowelA.append(word)\n",
    "    elif re.match('^e', word[0]):\n",
    "        vowelE.append(word)\n",
    "    elif re.match('^i', word[0]):\n",
    "        vowelI.append(word)\n",
    "    elif re.match('^o', word[0]):\n",
    "        vowelO.append(word)\n",
    "    elif re.match('^u', word[0]):\n",
    "        vowelU.append(word)\n",
    "\n",
    "def appendTopTenWords(list1, list2):\n",
    "    for tuple in list1[0:10]:\n",
    "        list2.append(tuple[0])\n",
    "    return list1, list2\n",
    "        \n",
    "#function that gives us top 10 words with every vowel\n",
    "\n",
    "def topTenWordsVowels(a, e, i, o, u):\n",
    "    topTenWordsA, topTenWordsE, topTenWordsI, topTenWordsO, topTenWordsU = [],[],[],[],[]\n",
    "    bigArray = [(a, topTenWordsA), (e, topTenWordsE), (i, topTenWordsI), (o, topTenWordsO), (u, topTenWordsU)]\n",
    "    for array in bigArray:\n",
    "        appendTopTenWords(array[0], array[1])\n",
    "    return topTenWordsA, topTenWordsE, topTenWordsI, topTenWordsO, topTenWordsU\n",
    "\n",
    "topTenWordsVowels(vowelA,vowelE,vowelI,vowelO,vowelU)\n"
   ]
  },
  {
   "cell_type": "code",
   "execution_count": null,
   "metadata": {},
   "outputs": [],
   "source": []
  }
 ],
 "metadata": {
  "kernelspec": {
   "display_name": "Python 3",
   "language": "python",
   "name": "python3"
  },
  "language_info": {
   "codemirror_mode": {
    "name": "ipython",
    "version": 3
   },
   "file_extension": ".py",
   "mimetype": "text/x-python",
   "name": "python",
   "nbconvert_exporter": "python",
   "pygments_lexer": "ipython3",
   "version": "3.8.5"
  }
 },
 "nbformat": 4,
 "nbformat_minor": 4
}
