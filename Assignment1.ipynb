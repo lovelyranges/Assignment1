{
 "cells": [
  {
   "cell_type": "markdown",
   "metadata": {},
   "source": [
    "# Assignment 1"
   ]
  },
  {
   "cell_type": "markdown",
   "metadata": {},
   "source": [
    "Reference of Source: (Format Later)\n",
    "\n",
    "https://acsjournals-onlinelibrary-wiley-com.proxy.lib.sfu.ca/doi/pdfdirect/10.1002/cncr.33219\n",
    "\n",
    "“This is some mess right here”: Exploring interactions between Black sexual minority women and health care providers for breast cancer screening and care"
   ]
  },
  {
   "cell_type": "code",
   "execution_count": 97,
   "metadata": {},
   "outputs": [
    {
     "data": {
      "text/plain": [
       "9424"
      ]
     },
     "execution_count": 97,
     "metadata": {},
     "output_type": "execute_result"
    }
   ],
   "source": [
    "#1. The length\n",
    "\n",
    "#import both nltk and regex\n",
    "import nltk, re\n",
    "\n",
    "from nltk import FreqDist\n",
    "\n",
    "from nltk.corpus import PlaintextCorpusReader\n",
    "\n",
    "corpusPath = \"./\"\n",
    "corpusText = PlaintextCorpusReader(corpusPath, '.*\\.txt')\n",
    "cancerJournal = nltk.Text(corpusText.words('breastcancerscreening.txt'))\n",
    "\n",
    "def length(text):\n",
    "    return len(text)\n",
    "\n",
    "length(cancerJournal)"
   ]
  },
  {
   "cell_type": "code",
   "execution_count": 25,
   "metadata": {},
   "outputs": [
    {
     "data": {
      "text/plain": [
       "0.19874787775891342"
      ]
     },
     "execution_count": 25,
     "metadata": {},
     "output_type": "execute_result"
    }
   ],
   "source": [
    "#2. The lexical diversity\n",
    "\n",
    "def lexical_diversity(text):\n",
    "    #divide types over tokens\n",
    "    return len(set(text)) / len(text)\n",
    "\n",
    "lexical_diversity(cancerJournal)"
   ]
  },
  {
   "cell_type": "code",
   "execution_count": 84,
   "metadata": {},
   "outputs": [
    {
     "data": {
      "text/plain": [
       "['The small numbers of racial/ethnic minority participants in prior studies limit the ability to assess whether\\nbarriers to screening and follow-up for sexual minorities apply across racial groups.4\\nBlack women are diagnosed at later stages of breast cancer than White women because of lower frequency of mammograms, longer time between mammograms, and lack of timely follow-up after abnormal mammograms,12-15 even\\namong the insured.16 The persistent racial disparity in follow-up after abnormal mammograms has contributed to disparities in breast cancer mortality between Black and White women.17,18 Previous studies suggest that Black women\\nhave 1.39-fold odds of a 2-month delay in breast cancer diagnosis after an abnormal mammogram and up to a 2.24-fold\\ndelay in diagnosis and treatment combined.13 Delays in diagnosis result in an increased risk of an advanced stage of\\nbreast cancer.14 In addition to race, barriers to timely follow-up after an abnormal mammogram include low income,\\nCorresponding Author: Naomi Greene, MPH, Department of Health, Behavior, and Society, Johns Hopkins Bloomberg School of Public Health, 624 N. Broadway,\\nBaltimore, MD 21205 (ngreene9@jhmi.edu).']"
      ]
     },
     "execution_count": 84,
     "metadata": {},
     "output_type": "execute_result"
    }
   ],
   "source": [
    "#3. The longest sentence (type the sentence and also give the number of words).\n",
    "#Hint: look at the Gutenberg part of Section 2.1 in NLTK\n",
    "\n",
    "#i'm not entirely sure why it won't work without the encoding, \n",
    "#but i think this would be important to make code more foolproof\n",
    "#in the future\n",
    "\n",
    "\n",
    "\n",
    "with open(\"breastcancerscreening.txt\", \"r\", encoding=\"utf8\") as f:\n",
    "    corpusText = f.read()\n",
    "    \n",
    "cancerJournalSentences = nltk.sent_tokenize(corpusText)\n",
    "cancerJournalWords = nltk.word_tokenize(corpusText)\n",
    "\n",
    "longestCancerJournalSentence = max(len(s) for s in cancerJournalSentences)\n",
    "[s for s in cancerJournalSentences if len(s) == longestCancerJournalSentence]\n",
    "\n",
    "#not entirely sure how to calculate the \"number of words in this sentence\"\n",
    "#also not sure if this is really returning the correct answer."
   ]
  },
  {
   "cell_type": "code",
   "execution_count": 78,
   "metadata": {},
   "outputs": [
    {
     "name": "stdout",
     "output_type": "stream",
     "text": [
      "breast cancer; health care; Black SMW; college graduate; care\n",
      "providers; cancer screening; Sexual Minority; Johns Hopkins; Cancer\n",
      "January; Minority Women; sexual minority; Original Article; Public\n",
      "Health; determination theory; Bloomberg School; Hopkins Bloomberg;\n",
      "Black women; Black Sexual; Naomi Greene; abnormal mammogram\n"
     ]
    }
   ],
   "source": [
    "#4. The top collocations.\n",
    "\n",
    "cancerJournal.collocations()"
   ]
  },
  {
   "cell_type": "code",
   "execution_count": 107,
   "metadata": {},
   "outputs": [
    {
     "name": "stdout",
     "output_type": "stream",
     "text": [
      "<FreqDist with 1688 samples and 8644 outcomes>\n"
     ]
    },
    {
     "ename": "TypeError",
     "evalue": "expected string or bytes-like object",
     "output_type": "error",
     "traceback": [
      "\u001b[1;31m---------------------------------------------------------------------------\u001b[0m",
      "\u001b[1;31mTypeError\u001b[0m                                 Traceback (most recent call last)",
      "\u001b[1;32m<ipython-input-107-74dbc7eaecfb>\u001b[0m in \u001b[0;36m<module>\u001b[1;34m\u001b[0m\n\u001b[0;32m     11\u001b[0m \u001b[0mmostcommon\u001b[0m \u001b[1;33m=\u001b[0m \u001b[0mfdist1\u001b[0m\u001b[1;33m.\u001b[0m\u001b[0mmost_common\u001b[0m\u001b[1;33m(\u001b[0m\u001b[1;36m50\u001b[0m\u001b[1;33m)\u001b[0m\u001b[1;33m\u001b[0m\u001b[1;33m\u001b[0m\u001b[0m\n\u001b[0;32m     12\u001b[0m \u001b[1;33m\u001b[0m\u001b[0m\n\u001b[1;32m---> 13\u001b[1;33m \u001b[0mre\u001b[0m\u001b[1;33m.\u001b[0m\u001b[0msearch\u001b[0m\u001b[1;33m(\u001b[0m\u001b[1;34m\"^The\"\u001b[0m\u001b[1;33m,\u001b[0m \u001b[0mcancerJournalWordsLower\u001b[0m\u001b[1;33m)\u001b[0m\u001b[1;33m\u001b[0m\u001b[1;33m\u001b[0m\u001b[0m\n\u001b[0m\u001b[0;32m     14\u001b[0m \u001b[1;33m\u001b[0m\u001b[0m\n\u001b[0;32m     15\u001b[0m \u001b[1;33m\u001b[0m\u001b[0m\n",
      "\u001b[1;32m~\\anaconda3\\lib\\re.py\u001b[0m in \u001b[0;36msearch\u001b[1;34m(pattern, string, flags)\u001b[0m\n\u001b[0;32m    199\u001b[0m     \"\"\"Scan through string looking for a match to the pattern, returning\n\u001b[0;32m    200\u001b[0m     a Match object, or None if no match was found.\"\"\"\n\u001b[1;32m--> 201\u001b[1;33m     \u001b[1;32mreturn\u001b[0m \u001b[0m_compile\u001b[0m\u001b[1;33m(\u001b[0m\u001b[0mpattern\u001b[0m\u001b[1;33m,\u001b[0m \u001b[0mflags\u001b[0m\u001b[1;33m)\u001b[0m\u001b[1;33m.\u001b[0m\u001b[0msearch\u001b[0m\u001b[1;33m(\u001b[0m\u001b[0mstring\u001b[0m\u001b[1;33m)\u001b[0m\u001b[1;33m\u001b[0m\u001b[1;33m\u001b[0m\u001b[0m\n\u001b[0m\u001b[0;32m    202\u001b[0m \u001b[1;33m\u001b[0m\u001b[0m\n\u001b[0;32m    203\u001b[0m \u001b[1;32mdef\u001b[0m \u001b[0msub\u001b[0m\u001b[1;33m(\u001b[0m\u001b[0mpattern\u001b[0m\u001b[1;33m,\u001b[0m \u001b[0mrepl\u001b[0m\u001b[1;33m,\u001b[0m \u001b[0mstring\u001b[0m\u001b[1;33m,\u001b[0m \u001b[0mcount\u001b[0m\u001b[1;33m=\u001b[0m\u001b[1;36m0\u001b[0m\u001b[1;33m,\u001b[0m \u001b[0mflags\u001b[0m\u001b[1;33m=\u001b[0m\u001b[1;36m0\u001b[0m\u001b[1;33m)\u001b[0m\u001b[1;33m:\u001b[0m\u001b[1;33m\u001b[0m\u001b[1;33m\u001b[0m\u001b[0m\n",
      "\u001b[1;31mTypeError\u001b[0m: expected string or bytes-like object"
     ]
    }
   ],
   "source": [
    "#5. The top ten words that start with each of the vowels (use FreqDist)\n",
    "\n",
    "cancerJournalWordsLower = []\n",
    "\n",
    "for word in cancerJournalWords:\n",
    "    cancerJournalWordsLower.append(word.lower())\n",
    "\n",
    "fdist1 = FreqDist(cancerJournalWordsLower)\n",
    "print(fdist1)\n",
    "\n",
    "mostcommon = fdist1.most_common(50)\n",
    "\n",
    "#6. A stemmed version of the longest sentence (extracted above in 3)"
   ]
  },
  {
   "cell_type": "code",
   "execution_count": null,
   "metadata": {},
   "outputs": [],
   "source": []
  }
 ],
 "metadata": {
  "kernelspec": {
   "display_name": "Python 3",
   "language": "python",
   "name": "python3"
  },
  "language_info": {
   "codemirror_mode": {
    "name": "ipython",
    "version": 3
   },
   "file_extension": ".py",
   "mimetype": "text/x-python",
   "name": "python",
   "nbconvert_exporter": "python",
   "pygments_lexer": "ipython3",
   "version": "3.8.5"
  }
 },
 "nbformat": 4,
 "nbformat_minor": 4
}
